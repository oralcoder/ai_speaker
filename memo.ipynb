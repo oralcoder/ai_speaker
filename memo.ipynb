{
 "cells": [
  {
   "cell_type": "markdown",
   "id": "86059ab5",
   "metadata": {},
   "source": [
    "# 필수 모듈 가져오기"
   ]
  },
  {
   "cell_type": "code",
   "execution_count": 2,
   "id": "ec07a9f6",
   "metadata": {},
   "outputs": [],
   "source": [
    "from numpy import int16\n",
    "import requests\n",
    "import json\n",
    "from playsound import playsound\n",
    "from scipy.io.wavfile import write\n",
    "import sounddevice\n",
    "import multiprocessing\n",
    "from datetime import datetime\n",
    "from bs4 import BeautifulSoup"
   ]
  },
  {
   "cell_type": "markdown",
   "id": "88155013",
   "metadata": {},
   "source": [
    "# 카카오 텍스트 전송을 위한 토큰 발급"
   ]
  },
  {
   "cell_type": "code",
   "execution_count": 27,
   "id": "7ee56898",
   "metadata": {},
   "outputs": [
    {
     "name": "stdout",
     "output_type": "stream",
     "text": [
      "{'access_token': 't9mSVJveGZkD8IVXZ9GO0Heq7m-2ktOlLJs4Swo9dBEAAAF-eBToeA', 'token_type': 'bearer', 'refresh_token': 'SrrNWR7H9Dse0nVkY2ZThMxsc_SbTXox2pTeQgo9dBEAAAF-eBTodw', 'expires_in': 21599, 'scope': 'talk_message', 'refresh_token_expires_in': 5183999}\n"
     ]
    }
   ],
   "source": [
    "url = \"https://kauth.kakao.com/oauth/token\"\n",
    "data = {\n",
    "    \"grant_type\" : \"authorization_code\",\n",
    "    \"client_id\" : \"140bf781fe1ceef3dce75719d8dbffd0\",\n",
    "    \"redirect_url\" : \"https://localhost.com\",\n",
    "    \"code\" : \"M0N805Vx_nV8jEByycfj56YW8HvvIzOX-NtMisQmiIRgu_x7OLAgRfTcPItwzdNvNqa12gopdSkAAAF-eA5o0g\",\n",
    "}\n",
    "res = requests.post(url, data=data)\n",
    "tokens = res.json()\n",
    "print(tokens)"
   ]
  },
  {
   "cell_type": "markdown",
   "id": "aa3e2351",
   "metadata": {},
   "source": [
    "# 음성 녹음"
   ]
  },
  {
   "cell_type": "code",
   "execution_count": 31,
   "id": "755b5555",
   "metadata": {},
   "outputs": [
    {
     "name": "stdout",
     "output_type": "stream",
     "text": [
      "recording....\n"
     ]
    }
   ],
   "source": [
    "fs=16000\n",
    "second=5\n",
    "print(\"recording....\")\n",
    "record_voice=sounddevice.rec(int(second * fs), samplerate=fs, channels=1, dtype=int16)\n",
    "sounddevice.wait()\n",
    "write('temp.wav', fs, record_voice)"
   ]
  },
  {
   "cell_type": "markdown",
   "id": "457b1bfc",
   "metadata": {},
   "source": [
    "# STT 서비스 요청"
   ]
  },
  {
   "cell_type": "code",
   "execution_count": 32,
   "id": "8f50d962",
   "metadata": {},
   "outputs": [],
   "source": [
    "url = \"https://kakaoi-newtone-openapi.kakao.com/v1/recognize\"\n",
    "key = \"140bf781fe1ceef3dce75719d8dbffd0\"\n",
    "headers = {\n",
    "    \"Content-Type\": \"application/octet-stream\",\n",
    "    \"Authorization\": \"KakaoAK \" + key,\n",
    "}\n",
    "with open('temp.wav', 'rb') as fp:\n",
    "    audio = fp.read()\n",
    "res = requests.post(url, headers=headers, data=audio)"
   ]
  },
  {
   "cell_type": "markdown",
   "id": "4d01b48d",
   "metadata": {},
   "source": [
    "# 요청 결과 출력"
   ]
  },
  {
   "cell_type": "code",
   "execution_count": 33,
   "id": "6c6abbc5",
   "metadata": {},
   "outputs": [
    {
     "name": "stdout",
     "output_type": "stream",
     "text": [
      "메모해줘\n"
     ]
    }
   ],
   "source": [
    "json_string = res.text[res.text.index('{\"type\":\"finalResult\"'):res.text.rindex('}')+1]\n",
    "result = json.loads(json_string)['value']\n",
    "print(result)"
   ]
  },
  {
   "cell_type": "markdown",
   "id": "284fb133",
   "metadata": {},
   "source": [
    "# 키워드 비교"
   ]
  },
  {
   "cell_type": "code",
   "execution_count": 34,
   "id": "b4e00421",
   "metadata": {},
   "outputs": [],
   "source": [
    "keyword = ''\n",
    "result = result.replace(\" \",\"\")\n",
    "if \"메모\" in result:\n",
    "    keyword = 'MEMO'\n",
    "else:\n",
    "    keyword = 'UNKNOWN'"
   ]
  },
  {
   "cell_type": "markdown",
   "id": "fd216e70",
   "metadata": {},
   "source": [
    "# 키워드 출력"
   ]
  },
  {
   "cell_type": "code",
   "execution_count": 35,
   "id": "fab47fad",
   "metadata": {},
   "outputs": [
    {
     "name": "stdout",
     "output_type": "stream",
     "text": [
      "MEMO\n"
     ]
    }
   ],
   "source": [
    "print(keyword)"
   ]
  },
  {
   "cell_type": "markdown",
   "id": "6857f49e",
   "metadata": {},
   "source": [
    "# 키워드가 MEMO라면 메모 요청을 data로 설정,\n",
    "# 그렇지 않다면 data로 무슨 말인지 잘 모르겠어요 로 설정"
   ]
  },
  {
   "cell_type": "code",
   "execution_count": 36,
   "id": "c4f8e3ae",
   "metadata": {},
   "outputs": [],
   "source": [
    "data = ''\n",
    "if keyword == 'MEMO':\n",
    "    data = f'<speak>네... 메모할 내용을 말씀하세요.</speak>'\n",
    "else:\n",
    "    data = f'<speak>무슨 말인지 잘 모르겠어요</speak>'\n",
    "data = data.encode('utf-8').decode('latin1')    "
   ]
  },
  {
   "cell_type": "markdown",
   "id": "ea2518f7",
   "metadata": {},
   "source": [
    "# TTS 서비스 요청"
   ]
  },
  {
   "cell_type": "code",
   "execution_count": 37,
   "id": "2dfd38f0",
   "metadata": {},
   "outputs": [],
   "source": [
    "url = \"https://kakaoi-newtone-openapi.kakao.com/v1/synthesize\"\n",
    "key = \"140bf781fe1ceef3dce75719d8dbffd0\"\n",
    "headers = {\n",
    "    \"Content-Type\": \"application/xml\",\n",
    "    \"Authorization\": \"KakaoAK \" + key,\n",
    "}\n",
    "res = requests.post(url, headers=headers, data=data)\n",
    "if (res.status_code != 200):\n",
    "    print(f'TTS 요청이 실패하였습니다.(code={res.status_code})')\n",
    "else:\n",
    "    with open('result.mp3', \"wb\") as f:\n",
    "        f.write(res.content)"
   ]
  },
  {
   "cell_type": "markdown",
   "id": "89026c7b",
   "metadata": {},
   "source": [
    "# TTS 서비스 결과 출력"
   ]
  },
  {
   "cell_type": "code",
   "execution_count": 38,
   "id": "6c6c95c8",
   "metadata": {},
   "outputs": [
    {
     "name": "stdout",
     "output_type": "stream",
     "text": [
      "press ENTER to stop playback\n"
     ]
    }
   ],
   "source": [
    "p = multiprocessing.Process(target=playsound, args=('result.mp3',))\n",
    "p.start()\n",
    "input(\"press ENTER to stop playback\")\n",
    "p.terminate()"
   ]
  },
  {
   "cell_type": "markdown",
   "id": "ffcc68c4",
   "metadata": {},
   "source": [
    "# 음성 녹음"
   ]
  },
  {
   "cell_type": "code",
   "execution_count": 39,
   "id": "32211fc5",
   "metadata": {},
   "outputs": [
    {
     "name": "stdout",
     "output_type": "stream",
     "text": [
      "recording....\n"
     ]
    }
   ],
   "source": [
    "fs=16000\n",
    "second=5\n",
    "print(\"recording....\")\n",
    "record_voice=sounddevice.rec(int(second * fs), samplerate=fs, channels=1, dtype=int16)\n",
    "sounddevice.wait()\n",
    "write('temp.wav', fs, record_voice)"
   ]
  },
  {
   "cell_type": "markdown",
   "id": "45c1b202",
   "metadata": {},
   "source": [
    "# STT 요청"
   ]
  },
  {
   "cell_type": "code",
   "execution_count": 40,
   "id": "5b106be1",
   "metadata": {},
   "outputs": [],
   "source": [
    "url = \"https://kakaoi-newtone-openapi.kakao.com/v1/recognize\"\n",
    "key = \"140bf781fe1ceef3dce75719d8dbffd0\"\n",
    "headers = {\n",
    "    \"Content-Type\": \"application/octet-stream\",\n",
    "    \"Authorization\": \"KakaoAK \" + key,\n",
    "}\n",
    "with open('temp.wav', 'rb') as fp:\n",
    "    audio = fp.read()\n",
    "res = requests.post(url, headers=headers, data=audio)"
   ]
  },
  {
   "cell_type": "markdown",
   "id": "758f17b8",
   "metadata": {},
   "source": [
    "# 요청 결과 출력"
   ]
  },
  {
   "cell_type": "code",
   "execution_count": 41,
   "id": "2d6bfaa6",
   "metadata": {},
   "outputs": [
    {
     "name": "stdout",
     "output_type": "stream",
     "text": [
      "오후 5시까지 사업 계획서 제출\n"
     ]
    }
   ],
   "source": [
    "json_string = res.text[res.text.index('{\"type\":\"finalResult\"'):res.text.rindex('}')+1]\n",
    "result = json.loads(json_string)['value']\n",
    "print(result)"
   ]
  },
  {
   "cell_type": "markdown",
   "id": "6e079f8a",
   "metadata": {},
   "source": [
    "# 카카오톡 나와의 대화로 전송"
   ]
  },
  {
   "cell_type": "code",
   "execution_count": 42,
   "id": "c8e669e3",
   "metadata": {},
   "outputs": [
    {
     "name": "stdout",
     "output_type": "stream",
     "text": [
      "200\n",
      "메시지를 성공적으로 보냈습니다.\n"
     ]
    }
   ],
   "source": [
    "url = \"https://kapi.kakao.com/v2/api/talk/memo/default/send\"\n",
    "key = \"kB5lN6uA-0kEoHbxiaGy48215f0UXJ-D3BJGrwo9c-wAAAF-d_mTlA\"\n",
    "headers = {\n",
    "    \"Authorization\": \"Bearer \" + key\n",
    "}\n",
    "data = {\n",
    "    \"template_object\" : json.dumps({ \n",
    "        \"object_type\" : \"text\",\n",
    "        \"text\" : result,\n",
    "        \"link\" : {\n",
    "            \"web_url\" : \"www.naver.com\"\n",
    "        }\n",
    "    })\n",
    "}\n",
    "\n",
    "response = requests.post(url, headers=headers, data=data)\n",
    "print(response.status_code)\n",
    "if response.json().get('result_code') == 0:\n",
    "    print('메시지를 성공적으로 보냈습니다.')\n",
    "else:\n",
    "    print('메시지를 성공적으로 보내지 못했습니다. 오류메시지 : ' + str(response.json()))"
   ]
  }
 ],
 "metadata": {
  "kernelspec": {
   "display_name": "Python 3 (ipykernel)",
   "language": "python",
   "name": "python3"
  },
  "language_info": {
   "codemirror_mode": {
    "name": "ipython",
    "version": 3
   },
   "file_extension": ".py",
   "mimetype": "text/x-python",
   "name": "python",
   "nbconvert_exporter": "python",
   "pygments_lexer": "ipython3",
   "version": "3.9.2"
  }
 },
 "nbformat": 4,
 "nbformat_minor": 5
}
