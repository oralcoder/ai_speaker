{
 "cells": [
  {
   "cell_type": "markdown",
   "id": "b646fdb0",
   "metadata": {},
   "source": [
    "# 필수 모듈 가져오기\n"
   ]
  },
  {
   "cell_type": "code",
   "execution_count": 1,
   "id": "1b948b0c",
   "metadata": {},
   "outputs": [],
   "source": [
    "from numpy import int16\n",
    "import requests\n",
    "import json\n",
    "from playsound import playsound\n",
    "from scipy.io.wavfile import write\n",
    "import sounddevice"
   ]
  },
  {
   "cell_type": "markdown",
   "id": "0123a43e",
   "metadata": {},
   "source": [
    "# 카카오 서비스 요청을 위한 설정"
   ]
  },
  {
   "cell_type": "code",
   "execution_count": 2,
   "id": "a28d56d4",
   "metadata": {},
   "outputs": [],
   "source": [
    "url = \"https://kakaoi-newtone-openapi.kakao.com/v1/recognize\"\n",
    "key = \"58df5a2afd5c776e6d4e95f5cabf709e\"\n",
    "headers = {\n",
    "    \"Content-Type\": \"application/octet-stream\",\n",
    "    \"Authorization\": \"KakaoAK \" + key,\n",
    "}"
   ]
  },
  {
   "cell_type": "markdown",
   "id": "af359e6f",
   "metadata": {},
   "source": [
    "# STT 서비스 요청 함수"
   ]
  },
  {
   "cell_type": "code",
   "execution_count": 3,
   "id": "0c2e8ad1",
   "metadata": {},
   "outputs": [],
   "source": [
    "def RequestSTT(path):\n",
    "    with open(path, 'rb') as fp:\n",
    "        audio = fp.read()\n",
    "        res = requests.post(url, headers=headers, data=audio)\n",
    "        return res    "
   ]
  },
  {
   "cell_type": "markdown",
   "id": "3c21de38",
   "metadata": {},
   "source": [
    "# 음성 녹음 함수"
   ]
  },
  {
   "cell_type": "code",
   "execution_count": 4,
   "id": "6270b946",
   "metadata": {},
   "outputs": [],
   "source": [
    "def RecordVoice(path):\n",
    "    fs=16000\n",
    "    second=5\n",
    "    print(\"recording....\")\n",
    "    record_voice=sounddevice.rec(int(second * fs), samplerate=fs, channels=1, dtype=int16)\n",
    "    sounddevice.wait()\n",
    "    write(path, fs, record_voice)"
   ]
  },
  {
   "cell_type": "markdown",
   "id": "61f7cd8f",
   "metadata": {},
   "source": [
    "# 음성 녹음"
   ]
  },
  {
   "cell_type": "code",
   "execution_count": 6,
   "id": "c201fc04",
   "metadata": {},
   "outputs": [
    {
     "name": "stdout",
     "output_type": "stream",
     "text": [
      "recording....\n"
     ]
    }
   ],
   "source": [
    "RecordVoice('temp.wav')"
   ]
  },
  {
   "cell_type": "markdown",
   "id": "0eaf9423",
   "metadata": {},
   "source": [
    "# STT 서비스 요청"
   ]
  },
  {
   "cell_type": "code",
   "execution_count": 7,
   "id": "7ea551d0",
   "metadata": {},
   "outputs": [],
   "source": [
    "res = RequestSTT('temp.wav')"
   ]
  },
  {
   "cell_type": "markdown",
   "id": "9a7448f1",
   "metadata": {},
   "source": [
    "# 요청 결과 출력"
   ]
  },
  {
   "cell_type": "code",
   "execution_count": 8,
   "id": "c391a48f",
   "metadata": {},
   "outputs": [
    {
     "name": "stdout",
     "output_type": "stream",
     "text": [
      "------newtonegDTuKCRK9uqb5pSi\r\n",
      "Content-Type: application/json; charset=UTF-8\r\n",
      "\r\n",
      "{\"type\":\"beginPointDetection\",\"value\":\"BPD\"}\r\n",
      "------newtonegDTuKCRK9uqb5pSi\r\n",
      "Content-Type: application/json; charset=UTF-8\r\n",
      "\r\n",
      "{\"type\":\"partialResult\",\"value\":\"한\"}\r\n",
      "------newtonegDTuKCRK9uqb5pSi\r\n",
      "Content-Type: application/json; charset=UTF-8\r\n",
      "\r\n",
      "{\"type\":\"partialResult\",\"value\":\"안녕\"}\r\n",
      "------newtonegDTuKCRK9uqb5pSi\r\n",
      "Content-Type: application/json; charset=UTF-8\r\n",
      "\r\n",
      "{\"type\":\"partialResult\",\"value\":\"안녕하세요\"}\r\n",
      "------newtonegDTuKCRK9uqb5pSi\r\n",
      "Content-Type: application/json; charset=UTF-8\r\n",
      "\r\n",
      "{\"type\":\"partialResult\",\"value\":\"안녕하세요 반갑습니다\"}\r\n",
      "------newtonegDTuKCRK9uqb5pSi\r\n",
      "Content-Type: application/json; charset=UTF-8\r\n",
      "\r\n",
      "{\"type\":\"endPointDetection\",\"value\":\"EPD\"}\r\n",
      "------newtonegDTuKCRK9uqb5pSi\r\n",
      "Content-Type: application/json; charset=UTF-8\r\n",
      "Speech-Length: 5\r\n",
      "\r\n",
      "{\"type\":\"finalResult\",\"value\":\"안녕하세요 반갑습니다\",\"nBest\":[{\"value\":\"안녕하세요 반갑습니다\",\"score\":49},{\"value\":\"안녕하세요 방 갑습니다\",\"score\":0}],\"voiceProfile\":{\"registered\":false,\"authenticated\":false},\"durationMS\":5200,\"qmarkScore\":0,\"gender\":0}\r\n",
      "------newtonegDTuKCRK9uqb5pSi--\r\n",
      "\n"
     ]
    }
   ],
   "source": [
    "print(res.text)"
   ]
  },
  {
   "cell_type": "code",
   "execution_count": 9,
   "id": "b81adbc6",
   "metadata": {},
   "outputs": [
    {
     "name": "stdout",
     "output_type": "stream",
     "text": [
      "안녕하세요 반갑습니다\n"
     ]
    }
   ],
   "source": [
    "json_string = res.text[res.text.index('{\"type\":\"finalResult\"'):res.text.rindex('}')+1]\n",
    "result = json.loads(json_string)['value']\n",
    "print(result)"
   ]
  }
 ],
 "metadata": {
  "kernelspec": {
   "display_name": "Python 3 (ipykernel)",
   "language": "python",
   "name": "python3"
  },
  "language_info": {
   "codemirror_mode": {
    "name": "ipython",
    "version": 3
   },
   "file_extension": ".py",
   "mimetype": "text/x-python",
   "name": "python",
   "nbconvert_exporter": "python",
   "pygments_lexer": "ipython3",
   "version": "3.9.2"
  }
 },
 "nbformat": 4,
 "nbformat_minor": 5
}
