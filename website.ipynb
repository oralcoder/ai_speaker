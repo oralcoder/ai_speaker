{
 "cells": [
  {
   "cell_type": "markdown",
   "id": "98534326",
   "metadata": {},
   "source": [
    "# 필수 모듈 가져오기"
   ]
  },
  {
   "cell_type": "code",
   "execution_count": 7,
   "id": "5c4d87a9",
   "metadata": {},
   "outputs": [],
   "source": [
    "from numpy import int16\n",
    "import requests\n",
    "import json\n",
    "from playsound import playsound\n",
    "from scipy.io.wavfile import write\n",
    "import sounddevice\n",
    "import multiprocessing\n",
    "from datetime import datetime\n",
    "from bs4 import BeautifulSoup\n",
    "from selenium import webdriver"
   ]
  },
  {
   "cell_type": "markdown",
   "id": "965b79ac",
   "metadata": {},
   "source": [
    "# 음성 녹음"
   ]
  },
  {
   "cell_type": "code",
   "execution_count": 58,
   "id": "db841a9d",
   "metadata": {},
   "outputs": [
    {
     "name": "stdout",
     "output_type": "stream",
     "text": [
      "recording....\n"
     ]
    }
   ],
   "source": [
    "fs=16000\n",
    "second=5\n",
    "print(\"recording....\")\n",
    "record_voice=sounddevice.rec(int(second * fs), samplerate=fs, channels=1, dtype=int16)\n",
    "sounddevice.wait()\n",
    "write('temp.wav', fs, record_voice)"
   ]
  },
  {
   "cell_type": "markdown",
   "id": "a35ecfaf",
   "metadata": {},
   "source": [
    "# STT 서비스 요청"
   ]
  },
  {
   "cell_type": "code",
   "execution_count": 59,
   "id": "b1bc863e",
   "metadata": {},
   "outputs": [],
   "source": [
    "url = \"https://kakaoi-newtone-openapi.kakao.com/v1/recognize\"\n",
    "key = \"931127ffaae1b169d808ee442f53e268\"\n",
    "headers = {\n",
    "    \"Content-Type\": \"application/octet-stream\",\n",
    "    \"Authorization\": \"KakaoAK \" + key,\n",
    "}\n",
    "with open('temp.wav', 'rb') as fp:\n",
    "    audio = fp.read()\n",
    "res = requests.post(url, headers=headers, data=audio)"
   ]
  },
  {
   "cell_type": "markdown",
   "id": "3019eaa6",
   "metadata": {},
   "source": [
    "# 요청 결과 출력"
   ]
  },
  {
   "cell_type": "code",
   "execution_count": 60,
   "id": "f9f0eed0",
   "metadata": {},
   "outputs": [
    {
     "name": "stdout",
     "output_type": "stream",
     "text": [
      "유튜브 열어 줘\n"
     ]
    }
   ],
   "source": [
    "json_string = res.text[res.text.index('{\"type\":\"finalResult\"'):res.text.rindex('}')+1]\n",
    "result = json.loads(json_string)['value']\n",
    "print(result)"
   ]
  },
  {
   "cell_type": "markdown",
   "id": "0da9280e",
   "metadata": {},
   "source": [
    "# 키워드 비교"
   ]
  },
  {
   "cell_type": "code",
   "execution_count": 61,
   "id": "63f03e3a",
   "metadata": {},
   "outputs": [],
   "source": [
    "keyword = ''\n",
    "result = result.replace(\" \",\"\")\n",
    "if \"몇시\" in result:\n",
    "    keyword = 'CURRENT_TIME'\n",
    "elif \"뉴스\" in result:\n",
    "    keyword = 'NEWS'\n",
    "elif \"열어줘\" in result or \"사이트\" in result:\n",
    "    keyword = 'SITE'\n",
    "else:\n",
    "    keyword = 'UNKNOWN'"
   ]
  },
  {
   "cell_type": "markdown",
   "id": "f0b1c094",
   "metadata": {},
   "source": [
    "# 키워드 출력"
   ]
  },
  {
   "cell_type": "code",
   "execution_count": 62,
   "id": "2d4a8228",
   "metadata": {},
   "outputs": [
    {
     "name": "stdout",
     "output_type": "stream",
     "text": [
      "SITE\n"
     ]
    }
   ],
   "source": [
    "print(keyword)"
   ]
  },
  {
   "cell_type": "markdown",
   "id": "3e2954d9",
   "metadata": {},
   "source": [
    "# 키워드에 따라 처리"
   ]
  },
  {
   "cell_type": "code",
   "execution_count": 63,
   "id": "85214d79",
   "metadata": {},
   "outputs": [],
   "source": [
    "data = ''\n",
    "siteList = {'네이버':'http://naver.com', '다음':'http://daum.net', '유튜브': 'http://youtube.com'}\n",
    "siteName = ''\n",
    "siteUrl = ''\n",
    "\n",
    "if keyword == 'CURRENT_TIME':\n",
    "    now = datetime.today().strftime('%H:%M')\n",
    "    data = f'<speak>현재 시각은<break time=\"150ms\"/>\\\n",
    "              <say-as interpret-as=\"time\" format=\"hm24\"> {now} </say-as> 입니다</speak>'\n",
    "elif keyword == 'NEWS':\n",
    "    newsList = []\n",
    "    url = 'https://www.yonhapnewstv.co.kr/news/headline'\n",
    "    headers = {'User-Agent': 'Mozilla/5.0 (Windows NT 10.0; Win64; x64) AppleWebKit/537.36 (KHTML, like Gecko) Chrome/95.0.4638.69 Safari/537.36'}\n",
    "    res = requests.get(url, headers=headers)\n",
    "    if (res.status_code != 200):\n",
    "        print(f'Request 요청이 실패하였습니다.(code={res.status_code})')\n",
    "        exit(1)\n",
    "    html = res.text\n",
    "    soup = BeautifulSoup(html, 'html.parser')\n",
    "    elem = soup.findAll('strong', class_='title')\n",
    "    data = '<speak>오늘의 뉴스를 알려드리겠습니다.'\n",
    "    for n, i in enumerate(elem):\n",
    "        news = i.text.replace('\\n', '').replace('  ', '')\n",
    "        data += f'{n+1}번: {news}<break time=\"500ms\"/>'\n",
    "    data += '</speak>'\n",
    "elif keyword == 'SITE':\n",
    "    for site, url in siteList.items():\n",
    "        if site in result:\n",
    "            data = f'<speak>{site} 페이지를 열겠습니다.</speak>'\n",
    "            siteName = site\n",
    "            siteUrl = url\n",
    "else:\n",
    "    data = f'<speak>무슨 말인지 잘 모르겠어요</speak>'\n",
    "data = data.encode('utf-8').decode('latin1')    "
   ]
  },
  {
   "cell_type": "markdown",
   "id": "c1de58f6",
   "metadata": {},
   "source": [
    "# TTS 서비스 요청"
   ]
  },
  {
   "cell_type": "code",
   "execution_count": 64,
   "id": "dc1a249a",
   "metadata": {},
   "outputs": [],
   "source": [
    "url = \"https://kakaoi-newtone-openapi.kakao.com/v1/synthesize\"\n",
    "key = \"931127ffaae1b169d808ee442f53e268\"\n",
    "headers = {\n",
    "    \"Content-Type\": \"application/xml\",\n",
    "    \"Authorization\": \"KakaoAK \" + key,\n",
    "}\n",
    "res = requests.post(url, headers=headers, data=data)\n",
    "if (res.status_code != 200):\n",
    "    print(f'TTS 요청이 실패하였습니다.(code={res.status_code})')\n",
    "else:\n",
    "    with open('result.mp3', \"wb\") as f:\n",
    "        f.write(res.content)"
   ]
  },
  {
   "cell_type": "markdown",
   "id": "0322761e",
   "metadata": {},
   "source": [
    "# TTS 서비스 결과 출력"
   ]
  },
  {
   "cell_type": "code",
   "execution_count": 66,
   "id": "1112418e",
   "metadata": {},
   "outputs": [
    {
     "name": "stdout",
     "output_type": "stream",
     "text": [
      "press ENTER to stop playback\n"
     ]
    }
   ],
   "source": [
    "p = multiprocessing.Process(target=playsound, args=('result.mp3',))\n",
    "p.start()\n",
    "input(\"press ENTER to stop playback\")\n",
    "p.terminate()"
   ]
  },
  {
   "cell_type": "markdown",
   "id": "cdf24439",
   "metadata": {},
   "source": [
    "# 웹 브라우저 열기"
   ]
  },
  {
   "cell_type": "code",
   "execution_count": 67,
   "id": "c8926acc",
   "metadata": {},
   "outputs": [],
   "source": [
    "if keyword == \"SITE\" and siteUrl:\n",
    "    service = webdriver.chrome.service.Service(\"C:/Users/oralcoder/Downloads/chromedriver_win32/chromedriver.exe\")\n",
    "    browser = webdriver.Chrome(service=service)\n",
    "    browser.get(siteUrl)"
   ]
  },
  {
   "cell_type": "code",
   "execution_count": 71,
   "id": "86daa940",
   "metadata": {},
   "outputs": [],
   "source": [
    "import os\n",
    "os.startfile(\"C:/Program Files (x86)/HNC/Office 2018/HOffice100/Bin/Hwp.exe\")"
   ]
  },
  {
   "cell_type": "code",
   "execution_count": null,
   "id": "e25d1c33",
   "metadata": {},
   "outputs": [],
   "source": []
  }
 ],
 "metadata": {
  "kernelspec": {
   "display_name": "Python 3 (ipykernel)",
   "language": "python",
   "name": "python3"
  },
  "language_info": {
   "codemirror_mode": {
    "name": "ipython",
    "version": 3
   },
   "file_extension": ".py",
   "mimetype": "text/x-python",
   "name": "python",
   "nbconvert_exporter": "python",
   "pygments_lexer": "ipython3",
   "version": "3.9.2"
  }
 },
 "nbformat": 4,
 "nbformat_minor": 5
}
