{
 "cells": [
  {
   "cell_type": "markdown",
   "id": "e7db08cd",
   "metadata": {},
   "source": [
    "# 필수 모듈 가져오기"
   ]
  },
  {
   "cell_type": "code",
   "execution_count": 19,
   "id": "4e26d300",
   "metadata": {},
   "outputs": [],
   "source": [
    "import requests\n",
    "import json\n",
    "import sounddevice\n",
    "import multiprocessing\n",
    "from playsound import playsound"
   ]
  },
  {
   "cell_type": "markdown",
   "id": "0b9eeb06",
   "metadata": {},
   "source": [
    "# 카카오 서비스 요청을 위한 설정"
   ]
  },
  {
   "cell_type": "code",
   "execution_count": 20,
   "id": "74dd2056",
   "metadata": {},
   "outputs": [],
   "source": [
    "url = \"https://kakaoi-newtone-openapi.kakao.com/v1/synthesize\"\n",
    "key = \"58df5a2afd5c776e6d4e95f5cabf709e\"\n",
    "headers = {\n",
    "    \"Content-Type\": \"application/xml\",\n",
    "    \"Authorization\": \"KakaoAK \" + key,\n",
    "}"
   ]
  },
  {
   "cell_type": "markdown",
   "id": "00def4a8",
   "metadata": {},
   "source": [
    "# TTS 서비스 요청 함수"
   ]
  },
  {
   "cell_type": "code",
   "execution_count": 21,
   "id": "4d1e6353",
   "metadata": {},
   "outputs": [],
   "source": [
    "def RequestTTS(data, path):\n",
    "    data = data.encode('utf-8').decode('latin1')\n",
    "    res = requests.post(url, headers=headers, data=data)\n",
    "    if (res.status_code == 200):\n",
    "        with open(path, \"wb\") as f:\n",
    "            f.write(res.content)"
   ]
  },
  {
   "cell_type": "markdown",
   "id": "d05c1475",
   "metadata": {},
   "source": [
    "# 음성 재생 함수"
   ]
  },
  {
   "cell_type": "code",
   "execution_count": 22,
   "id": "3275ac99",
   "metadata": {},
   "outputs": [],
   "source": [
    "def PlayAudio(path):\n",
    "    print('PlayAudio')\n",
    "    p = multiprocessing.Process(target=playsound, args=(path,))\n",
    "    p.start()\n",
    "    input(\"press ENTER to stop playback\")\n",
    "    p.terminate()"
   ]
  },
  {
   "cell_type": "markdown",
   "id": "c7e25fe7",
   "metadata": {},
   "source": [
    "# TTS 서비스를 요청할 텍스트 데이터 생성"
   ]
  },
  {
   "cell_type": "code",
   "execution_count": 16,
   "id": "20bdbe97",
   "metadata": {},
   "outputs": [],
   "source": [
    "data = '<speak>안녕하세요. 반갑습니다.</speak>'"
   ]
  },
  {
   "cell_type": "markdown",
   "id": "72f5d785",
   "metadata": {},
   "source": [
    "# TTS 서비스 요청"
   ]
  },
  {
   "cell_type": "code",
   "execution_count": 17,
   "id": "5b642e60",
   "metadata": {},
   "outputs": [
    {
     "data": {
      "text/plain": [
       "<Response [200]>"
      ]
     },
     "execution_count": 17,
     "metadata": {},
     "output_type": "execute_result"
    }
   ],
   "source": [
    "RequestTTS(data, 'tts.mp3')"
   ]
  },
  {
   "cell_type": "markdown",
   "id": "6124f001",
   "metadata": {},
   "source": [
    "# 음성 파일 재생"
   ]
  },
  {
   "cell_type": "code",
   "execution_count": 18,
   "id": "b4eeb7b5",
   "metadata": {},
   "outputs": [
    {
     "name": "stdout",
     "output_type": "stream",
     "text": [
      "PlayAudio\n",
      "press ENTER to stop playback\n"
     ]
    }
   ],
   "source": [
    "PlayAudio('tts.mp3')"
   ]
  },
  {
   "cell_type": "code",
   "execution_count": 23,
   "id": "305719ed",
   "metadata": {},
   "outputs": [],
   "source": [
    "data = '<speak>무슨 말인지 잘 모르겠어요.</speak>'"
   ]
  },
  {
   "cell_type": "code",
   "execution_count": 24,
   "id": "fbdd70fa",
   "metadata": {},
   "outputs": [],
   "source": [
    "RequestTTS(data, 'unknown.mp3')"
   ]
  },
  {
   "cell_type": "code",
   "execution_count": 25,
   "id": "a2d3e885",
   "metadata": {},
   "outputs": [
    {
     "name": "stdout",
     "output_type": "stream",
     "text": [
      "PlayAudio\n",
      "press ENTER to stop playback\n"
     ]
    }
   ],
   "source": [
    "PlayAudio('unknown.mp3')"
   ]
  }
 ],
 "metadata": {
  "kernelspec": {
   "display_name": "Python 3 (ipykernel)",
   "language": "python",
   "name": "python3"
  },
  "language_info": {
   "codemirror_mode": {
    "name": "ipython",
    "version": 3
   },
   "file_extension": ".py",
   "mimetype": "text/x-python",
   "name": "python",
   "nbconvert_exporter": "python",
   "pygments_lexer": "ipython3",
   "version": "3.9.2"
  }
 },
 "nbformat": 4,
 "nbformat_minor": 5
}
