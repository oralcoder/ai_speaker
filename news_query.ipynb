{
 "cells": [
  {
   "cell_type": "markdown",
   "id": "86059ab5",
   "metadata": {},
   "source": [
    "# 필수 모듈 가져오기"
   ]
  },
  {
   "cell_type": "code",
   "execution_count": 1,
   "id": "ec07a9f6",
   "metadata": {},
   "outputs": [],
   "source": [
    "from numpy import int16\n",
    "import requests\n",
    "import json\n",
    "from playsound import playsound\n",
    "from scipy.io.wavfile import write\n",
    "import sounddevice\n",
    "import multiprocessing\n",
    "from datetime import datetime\n",
    "from bs4 import BeautifulSoup"
   ]
  },
  {
   "cell_type": "markdown",
   "id": "aa3e2351",
   "metadata": {},
   "source": [
    "# 음성 녹음"
   ]
  },
  {
   "cell_type": "code",
   "execution_count": 2,
   "id": "755b5555",
   "metadata": {},
   "outputs": [
    {
     "name": "stdout",
     "output_type": "stream",
     "text": [
      "recording....\n"
     ]
    }
   ],
   "source": [
    "fs=16000\n",
    "second=5\n",
    "print(\"recording....\")\n",
    "record_voice=sounddevice.rec(int(second * fs), samplerate=fs, channels=1, dtype=int16)\n",
    "sounddevice.wait()\n",
    "write('temp.wav', fs, record_voice)"
   ]
  },
  {
   "cell_type": "markdown",
   "id": "457b1bfc",
   "metadata": {},
   "source": [
    "# STT 서비스 요청"
   ]
  },
  {
   "cell_type": "code",
   "execution_count": 3,
   "id": "8f50d962",
   "metadata": {},
   "outputs": [],
   "source": [
    "url = \"https://kakaoi-newtone-openapi.kakao.com/v1/recognize\"\n",
    "key = \"58df5a2afd5c776e6d4e95f5cabf709e\"\n",
    "headers = {\n",
    "    \"Content-Type\": \"application/octet-stream\",\n",
    "    \"Authorization\": \"KakaoAK \" + key,\n",
    "}\n",
    "with open('temp.wav', 'rb') as fp:\n",
    "    audio = fp.read()\n",
    "res = requests.post(url, headers=headers, data=audio)"
   ]
  },
  {
   "cell_type": "markdown",
   "id": "4d01b48d",
   "metadata": {},
   "source": [
    "# 요청 결과 출력"
   ]
  },
  {
   "cell_type": "code",
   "execution_count": 4,
   "id": "6c6abbc5",
   "metadata": {},
   "outputs": [
    {
     "name": "stdout",
     "output_type": "stream",
     "text": [
      "뉴스 알려줘\n"
     ]
    }
   ],
   "source": [
    "json_string = res.text[res.text.index('{\"type\":\"finalResult\"'):res.text.rindex('}')+1]\n",
    "result = json.loads(json_string)['value']\n",
    "print(result)"
   ]
  },
  {
   "cell_type": "markdown",
   "id": "284fb133",
   "metadata": {},
   "source": [
    "# 키워드 비교"
   ]
  },
  {
   "cell_type": "code",
   "execution_count": 5,
   "id": "b4e00421",
   "metadata": {},
   "outputs": [],
   "source": [
    "keyword = ''\n",
    "result = result.replace(\" \",\"\")\n",
    "if \"몇시\" in result:\n",
    "    keyword = 'CURRENT_TIME'\n",
    "elif \"뉴스\" in result:\n",
    "    keyword = 'NEWS'\n",
    "else:\n",
    "    keyword = 'UNKNOWN'"
   ]
  },
  {
   "cell_type": "markdown",
   "id": "fd216e70",
   "metadata": {},
   "source": [
    "# 키워드 출력"
   ]
  },
  {
   "cell_type": "code",
   "execution_count": 6,
   "id": "fab47fad",
   "metadata": {},
   "outputs": [
    {
     "name": "stdout",
     "output_type": "stream",
     "text": [
      "NEWS\n"
     ]
    }
   ],
   "source": [
    "print(keyword)"
   ]
  },
  {
   "cell_type": "markdown",
   "id": "e6cb00ee",
   "metadata": {},
   "source": [
    "# 키워드가 CURRENT_TIME이라면 현재 시각을 data로 설정,\n",
    "# 키워드가 NEWS 라면 연합 뉴스 가져오기,\n",
    "# 그렇지 않다면 data로 무슨 말인지 잘 모르겠어요 로 설정"
   ]
  },
  {
   "cell_type": "code",
   "execution_count": 12,
   "id": "fb273851",
   "metadata": {},
   "outputs": [],
   "source": [
    "data = ''\n",
    "if keyword == 'CURRENT_TIME':\n",
    "    now = datetime.today().strftime('%H:%M')\n",
    "    data = f'<speak>현재 시각은<break time=\"150ms\"/>\\\n",
    "              <say-as interpret-as=\"time\" format=\"hm24\"> {now} </say-as> 입니다</speak>'\n",
    "elif keyword == 'NEWS':\n",
    "    newsList = []\n",
    "    url = 'https://www.yonhapnewstv.co.kr/news/headline'\n",
    "    headers = {'User-Agent': 'Mozilla/5.0 (Windows NT 10.0; Win64; x64) AppleWebKit/537.36 (KHTML, like Gecko) Chrome/95.0.4638.69 Safari/537.36'}\n",
    "    res = requests.get(url, headers=headers)\n",
    "    if (res.status_code != 200):\n",
    "        print(f'Request 요청이 실패하였습니다.(code={res.status_code})')\n",
    "        exit(1)\n",
    "    html = res.text\n",
    "    soup = BeautifulSoup(html, 'html.parser')\n",
    "    elem = soup.findAll('strong', class_='title')\n",
    "    data = '<speak>오늘의 뉴스를 알려드리겠습니다.'\n",
    "    for n, i in enumerate(elem):\n",
    "        news = i.text.replace('\\n', '').replace('  ', '')\n",
    "        data += f'{n+1}번: {news}<break time=\"500ms\"/>'\n",
    "    data += '</speak>'\n",
    "else:\n",
    "    data = f'<speak>무슨 말인지 잘 모르겠어요</speak>'\n",
    "data = data.encode('utf-8').decode('latin1')    "
   ]
  },
  {
   "cell_type": "markdown",
   "id": "ea2518f7",
   "metadata": {},
   "source": [
    "# TTS 서비스 요청"
   ]
  },
  {
   "cell_type": "code",
   "execution_count": 13,
   "id": "2dfd38f0",
   "metadata": {},
   "outputs": [],
   "source": [
    "url = \"https://kakaoi-newtone-openapi.kakao.com/v1/synthesize\"\n",
    "key = \"58df5a2afd5c776e6d4e95f5cabf709e\"\n",
    "headers = {\n",
    "    \"Content-Type\": \"application/xml\",\n",
    "    \"Authorization\": \"KakaoAK \" + key,\n",
    "}\n",
    "res = requests.post(url, headers=headers, data=data)\n",
    "if (res.status_code != 200):\n",
    "    print(f'TTS 요청이 실패하였습니다.(code={res.status_code})')\n",
    "else:\n",
    "    with open('result.mp3', \"wb\") as f:\n",
    "        f.write(res.content)"
   ]
  },
  {
   "cell_type": "markdown",
   "id": "89026c7b",
   "metadata": {},
   "source": [
    "# TTS 서비스 결과 출력"
   ]
  },
  {
   "cell_type": "code",
   "execution_count": 14,
   "id": "6c6c95c8",
   "metadata": {},
   "outputs": [
    {
     "name": "stdout",
     "output_type": "stream",
     "text": [
      "press ENTER to stop playback\n"
     ]
    }
   ],
   "source": [
    "p = multiprocessing.Process(target=playsound, args=('result.mp3',))\n",
    "p.start()\n",
    "input(\"press ENTER to stop playback\")\n",
    "p.terminate()"
   ]
  },
  {
   "cell_type": "code",
   "execution_count": null,
   "id": "0e689fea",
   "metadata": {},
   "outputs": [],
   "source": []
  }
 ],
 "metadata": {
  "kernelspec": {
   "display_name": "Python 3 (ipykernel)",
   "language": "python",
   "name": "python3"
  },
  "language_info": {
   "codemirror_mode": {
    "name": "ipython",
    "version": 3
   },
   "file_extension": ".py",
   "mimetype": "text/x-python",
   "name": "python",
   "nbconvert_exporter": "python",
   "pygments_lexer": "ipython3",
   "version": "3.9.2"
  }
 },
 "nbformat": 4,
 "nbformat_minor": 5
}
