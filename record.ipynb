{
 "cells": [
  {
   "cell_type": "markdown",
   "id": "5d1ebb14",
   "metadata": {},
   "source": [
    "# 필수 모듈 가져오기"
   ]
  },
  {
   "cell_type": "code",
   "execution_count": 3,
   "id": "a8175a36",
   "metadata": {},
   "outputs": [],
   "source": [
    "from numpy import int16\n",
    "import sounddevice\n",
    "import multiprocessing\n",
    "from playsound import playsound\n",
    "from scipy.io.wavfile import write"
   ]
  },
  {
   "cell_type": "markdown",
   "id": "2ef8b698",
   "metadata": {},
   "source": [
    "# 녹음 함수"
   ]
  },
  {
   "cell_type": "code",
   "execution_count": 4,
   "id": "8aaf7b78",
   "metadata": {},
   "outputs": [],
   "source": [
    "def RecordVoice(path):\n",
    "    fs=16000\n",
    "    second=5\n",
    "    print(\"recording....\")\n",
    "    record_voice=sounddevice.rec(int(second * fs), samplerate=fs, channels=1, dtype=int16)\n",
    "    sounddevice.wait()\n",
    "    write(path, fs, record_voice)"
   ]
  },
  {
   "cell_type": "markdown",
   "id": "3b1acd9c",
   "metadata": {},
   "source": [
    "# 음성 재생 함수"
   ]
  },
  {
   "cell_type": "code",
   "execution_count": 5,
   "id": "1520a374",
   "metadata": {},
   "outputs": [],
   "source": [
    "def PlayAudio(path):\n",
    "    print('PlayAudio')\n",
    "    p = multiprocessing.Process(target=playsound, args=(path,))\n",
    "    p.start()\n",
    "    input(\"press ENTER to stop playback\")\n",
    "    p.terminate()"
   ]
  },
  {
   "cell_type": "markdown",
   "id": "1419e542",
   "metadata": {},
   "source": [
    "# 녹음 함수 실행"
   ]
  },
  {
   "cell_type": "code",
   "execution_count": 6,
   "id": "93e2b066",
   "metadata": {},
   "outputs": [
    {
     "name": "stdout",
     "output_type": "stream",
     "text": [
      "recording....\n"
     ]
    }
   ],
   "source": [
    "RecordVoice(\"record.wav\")"
   ]
  },
  {
   "cell_type": "markdown",
   "id": "d0dedc8c",
   "metadata": {},
   "source": [
    "# 재생 함수 실행"
   ]
  },
  {
   "cell_type": "code",
   "execution_count": 7,
   "id": "5f3fa1c5",
   "metadata": {},
   "outputs": [
    {
     "name": "stdout",
     "output_type": "stream",
     "text": [
      "PlayAudio\n",
      "press ENTER to stop playback\n"
     ]
    }
   ],
   "source": [
    "PlayAudio(\"record.wav\")"
   ]
  },
  {
   "cell_type": "code",
   "execution_count": null,
   "id": "1f6b3a04",
   "metadata": {},
   "outputs": [],
   "source": []
  }
 ],
 "metadata": {
  "kernelspec": {
   "display_name": "Python 3 (ipykernel)",
   "language": "python",
   "name": "python3"
  },
  "language_info": {
   "codemirror_mode": {
    "name": "ipython",
    "version": 3
   },
   "file_extension": ".py",
   "mimetype": "text/x-python",
   "name": "python",
   "nbconvert_exporter": "python",
   "pygments_lexer": "ipython3",
   "version": "3.9.2"
  }
 },
 "nbformat": 4,
 "nbformat_minor": 5
}
